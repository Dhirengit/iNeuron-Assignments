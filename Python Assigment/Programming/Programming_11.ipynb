{
 "cells": [
  {
   "cell_type": "markdown",
   "metadata": {},
   "source": [
    "1. Write a Python program to find words which are greater than given length k?"
   ]
  },
  {
   "cell_type": "code",
   "execution_count": 6,
   "metadata": {},
   "outputs": [
    {
     "name": "stdout",
     "output_type": "stream",
     "text": [
      "Enter the string : Python is Used in Machine Learning\n",
      "Enter k  (value for accepting string) : 3\n",
      "All words which are greater than given length 3 are  ['Python', 'Used', 'Machine', 'Learning']\n"
     ]
    }
   ],
   "source": [
    "myStr =  input('Enter the string : ')\n",
    "k = int(input('Enter k  (value for accepting string) : '))\n",
    "largerStrings = []\n",
    "\n",
    "words = myStr.split(\" \")\n",
    "for word in words:\n",
    "\tif len(word) > k:\n",
    "\t\tlargerStrings.append(word)\n",
    "\t\t\n",
    "print(\"All words which are greater than given length\", k, \"are \", largerStrings)\n"
   ]
  },
  {
   "cell_type": "markdown",
   "metadata": {},
   "source": [
    "2. Write a Python program for removing i-th character from a string?"
   ]
  },
  {
   "cell_type": "code",
   "execution_count": 13,
   "metadata": {},
   "outputs": [
    {
     "name": "stdout",
     "output_type": "stream",
     "text": [
      "pythonORdatascience\n"
     ]
    }
   ],
   "source": [
    "def remove(string, i): \n",
    "  \n",
    "    a = string[ : i] \n",
    "      \n",
    "    b = string[i + 1: ]\n",
    "      \n",
    "    return a + b\n",
    "      \n",
    "if __name__ == '__main__':\n",
    "      \n",
    "    string = \"pythonFORdatascience\"\n",
    "      \n",
    "    i = 6\n",
    "    \n",
    "    print(remove(string, i))\n"
   ]
  },
  {
   "cell_type": "markdown",
   "metadata": {},
   "source": [
    "3. Write a Python program to split and join a string?"
   ]
  },
  {
   "cell_type": "code",
   "execution_count": 16,
   "metadata": {},
   "outputs": [
    {
     "name": "stdout",
     "output_type": "stream",
     "text": [
      "['Python', 'for', 'Data', 'Science', 'or', 'Machine', 'Learning']\n",
      "Python-for-Data-Science-or-Machine-Learning\n"
     ]
    }
   ],
   "source": [
    "def split_str(string):\n",
    "    list_string = string.split(' ')\n",
    "    return list_string\n",
    "\n",
    "def join_str(list_string):\n",
    "    string = '-'.join(list_string)\n",
    "    return string\n",
    "\n",
    "if __name__ == '__main__':\n",
    "    string = 'Python for Data Science or Machine Learning'\n",
    "\n",
    "    list_string = split_str(string)\n",
    "    print(list_string)\n",
    "\n",
    "    new_string = join_str(list_string)\n",
    "    print(new_string)\n"
   ]
  },
  {
   "cell_type": "markdown",
   "metadata": {},
   "source": [
    "4. Write a Python to check if a given string is binary string or not?"
   ]
  },
  {
   "cell_type": "code",
   "execution_count": 21,
   "metadata": {},
   "outputs": [
    {
     "name": "stdout",
     "output_type": "stream",
     "text": [
      "Yes\n"
     ]
    }
   ],
   "source": [
    "def check(string) :\n",
    "\n",
    "    p = set(string)\n",
    "\n",
    "    s = {'0', '1'}\n",
    "\n",
    "    if s == p or p == {'0'} or p == {'1'}:\n",
    "        print(\"Yes\")\n",
    "    else :\n",
    "        print(\"No\")\n",
    "\n",
    "if __name__ == \"__main__\" :\n",
    "\n",
    "    string = \"101010000111\"\n",
    "\n",
    "    check(string)\n"
   ]
  },
  {
   "cell_type": "markdown",
   "metadata": {},
   "source": [
    "5. Write a Python program to find uncommon words from two Strings?"
   ]
  },
  {
   "cell_type": "code",
   "execution_count": 29,
   "metadata": {},
   "outputs": [
    {
     "name": "stdout",
     "output_type": "stream",
     "text": [
      "['Python', 'is', 'Best', 'Laungauge', 'for']\n"
     ]
    }
   ],
   "source": [
    "def uncommon(A, B):\n",
    "    un_comm = [i for i in \"\".join(B).split() if i not in \"\".join(A).split()]\n",
    "    return un_comm\n",
    "\n",
    "A = \"Machine Learning or Data science\"\n",
    "B = \"Python is Best Laungauge for Machine Learning or Data science\"\n",
    "print(uncommon(A, B))\n"
   ]
  },
  {
   "cell_type": "markdown",
   "metadata": {},
   "source": [
    "6. Write a Python to find all duplicate characters in string?"
   ]
  },
  {
   "cell_type": "code",
   "execution_count": 32,
   "metadata": {},
   "outputs": [
    {
     "name": "stdout",
     "output_type": "stream",
     "text": [
      "['Machine', 'Learning', 'or', 'Data', 'science']\n"
     ]
    }
   ],
   "source": [
    "def common(A, B):\n",
    "    comm = [i for i in \"\".join(B).split() if i in \"\".join(A).split()]\n",
    "    return comm\n",
    "\n",
    "A = \"Machine Learning or Data science\"\n",
    "B = \"Python is Best Laungauge for Machine Learning or Data science\"\n",
    "print(common(A, B))\n"
   ]
  },
  {
   "cell_type": "code",
   "execution_count": null,
   "metadata": {},
   "outputs": [],
   "source": [
    "7. Write a Python Program to check if a string contains any special character?"
   ]
  },
  {
   "cell_type": "code",
   "execution_count": 37,
   "metadata": {},
   "outputs": [
    {
     "name": "stdout",
     "output_type": "stream",
     "text": [
      "Enter any string: Hello Python!\n",
      "The string contains special characters.\n"
     ]
    }
   ],
   "source": [
    "import re\n",
    "\n",
    "string = input('Enter any string: ')\n",
    " \n",
    "special_char = re.compile('[@_!#$%^&*()<>?/\\|}{~:]')\n",
    "\n",
    "if(special_char.search(string) == None):\n",
    "    print('String does not contain any special characters.')\n",
    "else:\n",
    "    print('The string contains special characters.')"
   ]
  }
 ],
 "metadata": {
  "kernelspec": {
   "display_name": "Python 3",
   "language": "python",
   "name": "python3"
  },
  "language_info": {
   "codemirror_mode": {
    "name": "ipython",
    "version": 3
   },
   "file_extension": ".py",
   "mimetype": "text/x-python",
   "name": "python",
   "nbconvert_exporter": "python",
   "pygments_lexer": "ipython3",
   "version": "3.8.5"
  }
 },
 "nbformat": 4,
 "nbformat_minor": 4
}
