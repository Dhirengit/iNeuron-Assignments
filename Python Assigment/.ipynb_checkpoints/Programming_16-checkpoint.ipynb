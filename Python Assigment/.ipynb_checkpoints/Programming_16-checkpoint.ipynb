{
 "cells": [
  {
   "cell_type": "raw",
   "metadata": {},
   "source": [
    "Question1. Write a function that stutters a word as if someone is struggling to read it. The\n",
    "first two letters are repeated twice with an ellipsis ... and space after each, and then the\n",
    "word is pronounced with a question mark ?.\n",
    "Examples\n",
    "stutter(\"incredible\") ➞ \"in... in... incredible?\"\n",
    "stutter(\"enthusiastic\") ➞ \"en... en... enthusiastic?\"\n",
    "stutter(\"outstanding\") ➞ \"ou... ou... outstanding?\"\n",
    "\n",
    "Hint :- Assume all input is in lower case and at least two characters long."
   ]
  },
  {
   "cell_type": "code",
   "execution_count": 3,
   "metadata": {},
   "outputs": [
    {
     "name": "stdout",
     "output_type": "stream",
     "text": [
      "in... in... incredible?\n",
      "en... en... enthusiastic?\n",
      "ou... ou... outstanding?\n"
     ]
    }
   ],
   "source": [
    "def stutter(word):\n",
    "    s = word[:2]\n",
    "    return (2 * (s + '... ')) + word + '?'\n",
    "\n",
    "\n",
    "print(stutter(\"incredible\"))\n",
    "print(stutter(\"enthusiastic\"))\n",
    "print(stutter(\"outstanding\"))"
   ]
  },
  {
   "cell_type": "raw",
   "metadata": {},
   "source": [
    "Question 2.Create a function that takes an angle in radians and returns the corresponding\n",
    "angle in degrees rounded to one decimal place.\n",
    "Examples\n",
    "radians_to_degrees(1) ➞ 57.3\n",
    "radians_to_degrees(20) ➞ 1145.9\n",
    "radians_to_degrees(50) ➞ 2864.8"
   ]
  },
  {
   "cell_type": "code",
   "execution_count": 4,
   "metadata": {},
   "outputs": [
    {
     "name": "stdout",
     "output_type": "stream",
     "text": [
      "degree = 57.3\n",
      "degree = 1145.9\n",
      "degree = 2864.8\n"
     ]
    }
   ],
   "source": [
    "def Convert(radian):\n",
    "    return round(radian * (180/3.14159),1)\n",
    " \n",
    "print(\"degree =\",(Convert(1)))\n",
    "print(\"degree =\",(Convert(20)))\n",
    "print(\"degree =\",(Convert(50)))"
   ]
  },
  {
   "cell_type": "raw",
   "metadata": {},
   "source": [
    "Question 3. In this challenge, establish if a given integer num is a Curzon number. If 1 plus\n",
    "2 elevated to num is exactly divisible by 1 plus 2 multiplied by num, then num is a Curzon\n",
    "number.\n",
    "Given a non-negative integer num, implement a function that returns True if num is a Curzon\n",
    "number, or False otherwise.\n",
    "Examples\n",
    "is_curzon(5) ➞ True\n",
    "# 2 ** 5 + 1 = 33\n",
    "# 2 * 5 + 1 = 11\n",
    "# 33 is a multiple of 11\n",
    "is_curzon(10) ➞ False\n",
    "# 2 ** 10 + 1 = 1025\n",
    "# 2 * 10 + 1 = 21\n",
    "# 1025 is not a multiple of 21\n",
    "is_curzon(14) ➞ True\n",
    "# 2 ** 14 + 1 = 16385\n",
    "# 2 * 14 + 1 = 29\n",
    "# 16385 is a multiple of 29"
   ]
  },
  {
   "cell_type": "code",
   "execution_count": 7,
   "metadata": {},
   "outputs": [
    {
     "name": "stdout",
     "output_type": "stream",
     "text": [
      "33\n",
      "11\n",
      "True\n",
      "1025\n",
      "21\n",
      "False\n"
     ]
    }
   ],
   "source": [
    "def is_curzon(N):\n",
    " \n",
    "    powerTerm, productTerm = 0, 0\n",
    " \n",
    "    # Find 2^N + 1\n",
    "    powerTerm = pow(2, N) + 1\n",
    "    print(powerTerm)\n",
    " \n",
    "    # Find 2*N + 1\n",
    "    productTerm = 2 * N + 1\n",
    "    print(productTerm)\n",
    " \n",
    "    if (powerTerm % productTerm == 0):\n",
    "        return True\n",
    "    else:\n",
    "        return False\n",
    "\n",
    "print(is_curzon(5))\n",
    "print(is_curzon(10))"
   ]
  },
  {
   "cell_type": "raw",
   "metadata": {},
   "source": [
    "Question 4.Given the side length x find the area of a hexagon.\n",
    "\n",
    "Examples\n",
    "area_of_hexagon(1) ➞ 2.6\n",
    "area_of_hexagon(2) ➞ 10.4\n",
    "area_of_hexagon(3) ➞ 23.4"
   ]
  },
  {
   "cell_type": "code",
   "execution_count": 8,
   "metadata": {},
   "outputs": [
    {
     "name": "stdout",
     "output_type": "stream",
     "text": [
      "area_of_hexagon(1) ➞  2.6\n",
      "area_of_hexagon(2) ➞  10.4\n",
      "area_of_hexagon(2) ➞  23.4\n"
     ]
    }
   ],
   "source": [
    "import math\n",
    "\n",
    "def area_of_hexagon(s):\n",
    "\n",
    "    return round(((3 * math.sqrt(3) *(s * s)) / 2),1)\n",
    "\n",
    "\n",
    "print(\"area_of_hexagon({}) ➞ \".format(1),area_of_hexagon(1))\n",
    "print(\"area_of_hexagon({}) ➞ \".format(2),area_of_hexagon(2))\n",
    "print(\"area_of_hexagon({}) ➞ \".format(2),area_of_hexagon(3))\n"
   ]
  },
  {
   "cell_type": "raw",
   "metadata": {},
   "source": [
    "Question 5. Create a function that returns a base-2 (binary) representation of a base-10\n",
    "(decimal) string number. To convert is simple: ((2) means base-2 and (10) means base-10)\n",
    "010101001(2) = 1 + 8 + 32 + 128.\n",
    "Going from right to left, the value of the most right bit is 1, now from that every bit to the left\n",
    "will be x2 the value, value of an 8 bit binary numbers are (256, 128, 64, 32, 16, 8, 4, 2, 1).\n",
    "Examples\n",
    "binary(1) ➞ '1'\n",
    "# 1*1 = 1\n",
    "binary(5) ➞ '101'\n",
    "# 1*1 + 1*4 = 5\n",
    "binary(10) ➞ '1010'\n",
    "# 1*2 + 1*8 = 10"
   ]
  },
  {
   "cell_type": "code",
   "execution_count": 43,
   "metadata": {},
   "outputs": [],
   "source": [
    "def binary(n):    \n",
    "    b_string  = bin(n)     \n",
    "    b_string =  b_string[2:] \n",
    "\n",
    "\n",
    "    integer_conversion = 0   \n",
    "    for idx,val in enumerate(b_string[::-1]):   \n",
    "        if ((int(val) & 1 ) == 1):             \n",
    "            integer_conversion = 1*(1<<idx)+integer_conversion \n",
    "    print(\"binary({})  ➞ \".format(n), str(b_string), \",\", integer_conversion)\n"
   ]
  },
  {
   "cell_type": "code",
   "execution_count": 44,
   "metadata": {},
   "outputs": [
    {
     "name": "stdout",
     "output_type": "stream",
     "text": [
      "binary(5)  ➞  101 , 5\n",
      "binary(10)  ➞  1010 , 10\n"
     ]
    }
   ],
   "source": [
    "binary(5)\n",
    "binary(10)"
   ]
  }
 ],
 "metadata": {
  "kernelspec": {
   "display_name": "Python 3",
   "language": "python",
   "name": "python3"
  },
  "language_info": {
   "codemirror_mode": {
    "name": "ipython",
    "version": 3
   },
   "file_extension": ".py",
   "mimetype": "text/x-python",
   "name": "python",
   "nbconvert_exporter": "python",
   "pygments_lexer": "ipython3",
   "version": "3.8.5"
  }
 },
 "nbformat": 4,
 "nbformat_minor": 4
}
