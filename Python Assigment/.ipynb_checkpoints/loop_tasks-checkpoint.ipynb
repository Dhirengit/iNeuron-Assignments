{
 "cells": [
  {
   "cell_type": "markdown",
   "metadata": {},
   "source": [
    "q1:\n",
    "ineuron\n",
    "ineuron ineuron\n",
    "ineuron ineuron ineuron\n",
    "ineuron ineuron ineuron ineuron \n",
    "ineuron ineuron ineuron ineuron ineuron "
   ]
  },
  {
   "cell_type": "code",
   "execution_count": 72,
   "metadata": {},
   "outputs": [],
   "source": [
    "# q2:\n",
    "# ineuron \n",
    "# ineuron ineuron \n",
    "# ineuron ineuron ineuron \n",
    "# ineuron ineuron ineuron ineuron \n",
    "# ineuron ineuron ineuron ineuron ineuron"
   ]
  },
  {
   "cell_type": "code",
   "execution_count": 73,
   "metadata": {},
   "outputs": [
    {
     "name": "stdout",
     "output_type": "stream",
     "text": [
      "ineuron \r\n",
      "ineuron ineuron \r\n",
      "ineuron ineuron ineuron \r\n",
      "ineuron ineuron ineuron ineuron \r\n",
      "ineuron ineuron ineuron ineuron ineuron \r\n"
     ]
    }
   ],
   "source": [
    "for i in range(5):\n",
    "        for j in range(i+1):\n",
    "            print(\"ineuron \",end=\"\")\n",
    "      \n",
    "        print(\"\\r\")"
   ]
  },
  {
   "cell_type": "code",
   "execution_count": 1,
   "metadata": {},
   "outputs": [],
   "source": [
    "l= [[1,2,3,4], (2,3,4,5,6), (3,4,5,6,7), set([23,4,5,45,4,4,5,45,45,4,5]), {'k1':\"sudh\", \"k2\": \"ineuron\", \"k3\": \"kumar\", 3:6, 7:8}, [\"ineuron\", \"data science\"]]"
   ]
  },
  {
   "cell_type": "markdown",
   "metadata": {},
   "source": [
    "q3 : Try to extract all the list entity"
   ]
  },
  {
   "cell_type": "code",
   "execution_count": 4,
   "metadata": {},
   "outputs": [
    {
     "name": "stdout",
     "output_type": "stream",
     "text": [
      "[1, 2, 3, 4]\n",
      "['ineuron', 'data science']\n"
     ]
    }
   ],
   "source": [
    "for i in l:\n",
    "    if type(i) == list:\n",
    "        print(i)"
   ]
  },
  {
   "cell_type": "markdown",
   "metadata": {},
   "source": [
    "q4: Try to extract all the dict entity"
   ]
  },
  {
   "cell_type": "code",
   "execution_count": 5,
   "metadata": {},
   "outputs": [
    {
     "name": "stdout",
     "output_type": "stream",
     "text": [
      "{'k1': 'sudh', 'k2': 'ineuron', 'k3': 'kumar', 3: 6, 7: 8}\n"
     ]
    }
   ],
   "source": [
    "for i in l:\n",
    "    if type(i) == dict:\n",
    "        print(i)"
   ]
  },
  {
   "cell_type": "markdown",
   "metadata": {},
   "source": [
    "q5: Try to extract all the tuple entity"
   ]
  },
  {
   "cell_type": "code",
   "execution_count": 6,
   "metadata": {},
   "outputs": [
    {
     "name": "stdout",
     "output_type": "stream",
     "text": [
      "(2, 3, 4, 5, 6)\n",
      "(3, 4, 5, 6, 7)\n"
     ]
    }
   ],
   "source": [
    "for i in l:\n",
    "    if type(i) == tuple:\n",
    "        print(i)"
   ]
  },
  {
   "cell_type": "markdown",
   "metadata": {},
   "source": [
    "q6: Try to extract all the numerical data it may be a part of dict key and values."
   ]
  },
  {
   "cell_type": "code",
   "execution_count": 7,
   "metadata": {},
   "outputs": [
    {
     "name": "stdout",
     "output_type": "stream",
     "text": [
      "keys 3\n",
      "keys 7\n",
      "values 7\n",
      "values 7\n"
     ]
    }
   ],
   "source": [
    "for i in l:\n",
    "    if type(i) is dict:\n",
    "        for j in (i.keys()):\n",
    "            if type(j) is int:\n",
    "                print(\"keys\",j)\n",
    "        for k in (i.values()):\n",
    "            if type(k) is int:\n",
    "                print(\"values\",j)"
   ]
  },
  {
   "cell_type": "code",
   "execution_count": null,
   "metadata": {},
   "outputs": [],
   "source": [
    "q7: Try to give summation of all numeric data"
   ]
  },
  {
   "cell_type": "code",
   "execution_count": 75,
   "metadata": {},
   "outputs": [
    {
     "name": "stdout",
     "output_type": "stream",
     "text": [
      "10\n",
      "20\n",
      "25\n",
      "77\n"
     ]
    }
   ],
   "source": [
    "for i in l :\n",
    "    if type(i) is not dict:\n",
    "        print(sum(i))\n",
    "    else:\n",
    "        break"
   ]
  },
  {
   "cell_type": "markdown",
   "metadata": {},
   "source": [
    "q8: Try to filter out all the odd values out all numeric data which is part of list"
   ]
  },
  {
   "cell_type": "code",
   "execution_count": 8,
   "metadata": {
    "scrolled": false
   },
   "outputs": [
    {
     "name": "stdout",
     "output_type": "stream",
     "text": [
      "1\n",
      "3\n"
     ]
    }
   ],
   "source": [
    "for i in l:\n",
    "    if type(i) is list:\n",
    "        for j in i:\n",
    "            if type(j) is int and  j % 2:\n",
    "                print(j)"
   ]
  },
  {
   "cell_type": "markdown",
   "metadata": {},
   "source": [
    "q9: Try to extract \"ineuron\" out of this data"
   ]
  },
  {
   "cell_type": "code",
   "execution_count": 9,
   "metadata": {},
   "outputs": [
    {
     "name": "stdout",
     "output_type": "stream",
     "text": [
      "ineuron\n",
      "ineuron\n"
     ]
    }
   ],
   "source": [
    "for i in l:\n",
    "    if \"ineuron\" in i:\n",
    "        print(i[0])\n",
    "    elif type(i) is dict :\n",
    "        for j in i.values():\n",
    "            if j == \"ineuron\" :\n",
    "                print(j)"
   ]
  },
  {
   "cell_type": "markdown",
   "metadata": {},
   "source": [
    "q10: Try to find out a number of occurances of all the data"
   ]
  },
  {
   "cell_type": "code",
   "execution_count": null,
   "metadata": {},
   "outputs": [],
   "source": []
  },
  {
   "cell_type": "markdown",
   "metadata": {},
   "source": [
    "q11: Try to find out number of keys in dict element"
   ]
  },
  {
   "cell_type": "code",
   "execution_count": 5,
   "metadata": {},
   "outputs": [
    {
     "name": "stdout",
     "output_type": "stream",
     "text": [
      "5\n"
     ]
    }
   ],
   "source": [
    "for i in l:\n",
    "    if type(i) is dict:\n",
    "        print(len(i.keys()))"
   ]
  },
  {
   "cell_type": "markdown",
   "metadata": {},
   "source": [
    "q12:Try to filter out all the string data "
   ]
  },
  {
   "cell_type": "code",
   "execution_count": 11,
   "metadata": {},
   "outputs": [
    {
     "data": {
      "text/plain": [
       "[[1, 2, 3, 4],\n",
       " (2, 3, 4, 5, 6),\n",
       " (3, 4, 5, 6, 7),\n",
       " {4, 5, 23, 45},\n",
       " {'k1': 'sudh', 'k2': 'ineuron', 'k3': 'kumar', 3: 6, 7: 8},\n",
       " ['ineuron', 'data science']]"
      ]
     },
     "execution_count": 11,
     "metadata": {},
     "output_type": "execute_result"
    }
   ],
   "source": [
    "l"
   ]
  },
  {
   "cell_type": "code",
   "execution_count": 27,
   "metadata": {},
   "outputs": [
    {
     "name": "stdout",
     "output_type": "stream",
     "text": [
      "sudh\n",
      "ineuron\n",
      "kumar\n",
      "ineuron\n",
      "data science\n"
     ]
    }
   ],
   "source": [
    "for i in l:\n",
    "    if type(i) is dict:\n",
    "        for j in i.values():\n",
    "            if type(j) is str:\n",
    "                print(j)\n",
    "    elif type(i) is list:\n",
    "        for k in i:\n",
    "            if type(k) is str:\n",
    "                print(k)\n",
    "    "
   ]
  },
  {
   "cell_type": "markdown",
   "metadata": {},
   "source": [
    "q13: Try to Find out alphanum in data"
   ]
  },
  {
   "cell_type": "code",
   "execution_count": 33,
   "metadata": {},
   "outputs": [
    {
     "name": "stdout",
     "output_type": "stream",
     "text": [
      "sudh True\n",
      "ineuron True\n",
      "kumar True\n",
      "ineuron True\n",
      "data science False\n"
     ]
    }
   ],
   "source": [
    "for i in l:\n",
    "    if type(i) is dict:\n",
    "        for j in i.values():\n",
    "            if type(j) is str:\n",
    "                print(j, j.isalnum())\n",
    "    elif type(i) is list:\n",
    "        for k in i:\n",
    "            if type(k) is str:\n",
    "                print(k, k.isalnum())\n"
   ]
  },
  {
   "cell_type": "markdown",
   "metadata": {},
   "source": [
    "q14: Try to find out multiplication of all numeric value in the individual collection inside dataset."
   ]
  },
  {
   "cell_type": "code",
   "execution_count": 67,
   "metadata": {},
   "outputs": [
    {
     "name": "stdout",
     "output_type": "stream",
     "text": [
      "24\n",
      "720\n",
      "2520\n",
      "20700\n"
     ]
    }
   ],
   "source": [
    "import math\n",
    "for i in l :\n",
    "    if type(i) is not dict:\n",
    "        print(math.prod(i))\n",
    "    else:\n",
    "        break"
   ]
  },
  {
   "cell_type": "markdown",
   "metadata": {},
   "source": [
    "q15: Try to unwrape all the collection inside collection and create a flate list"
   ]
  },
  {
   "cell_type": "code",
   "execution_count": 71,
   "metadata": {},
   "outputs": [
    {
     "name": "stdout",
     "output_type": "stream",
     "text": [
      "[1, 2, 3, 4, 2, 3, 4, 5, 6, 3, 4, 5, 6, 7, 45, 4, 5, 23, 'k1', 'k2', 'k3', 3, 7, 'ineuron', 'data science']\n"
     ]
    }
   ],
   "source": [
    "flat_list = []\n",
    "for i in l:\n",
    "    for j in i:\n",
    "        flat_list.append(j)\n",
    "print(flat_list)"
   ]
  }
 ],
 "metadata": {
  "kernelspec": {
   "display_name": "Python 3",
   "language": "python",
   "name": "python3"
  },
  "language_info": {
   "codemirror_mode": {
    "name": "ipython",
    "version": 3
   },
   "file_extension": ".py",
   "mimetype": "text/x-python",
   "name": "python",
   "nbconvert_exporter": "python",
   "pygments_lexer": "ipython3",
   "version": "3.8.5"
  }
 },
 "nbformat": 4,
 "nbformat_minor": 4
}
