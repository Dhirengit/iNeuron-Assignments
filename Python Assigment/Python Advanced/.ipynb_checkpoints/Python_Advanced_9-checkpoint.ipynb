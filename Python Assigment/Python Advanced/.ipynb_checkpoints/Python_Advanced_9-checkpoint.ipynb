{
 "cells": [
  {
   "cell_type": "markdown",
   "metadata": {},
   "source": [
    "## Q1. In Python 3.X, what are the names and functions of string object types?"
   ]
  },
  {
   "cell_type": "code",
   "execution_count": 2,
   "metadata": {},
   "outputs": [
    {
     "name": "stdout",
     "output_type": "stream",
     "text": [
      "True\n",
      "True\n",
      "False\n",
      "('\"I could eat ', 'bananas', ' all day, bananas are my favorite fruit\"')\n",
      "('\"I could eat bananas all day, ', 'bananas', ' are my favorite fruit\"')\n",
      "True\n",
      "17\n",
      "5\n",
      "5\n",
      "t\n",
      "A\n",
      "['Ineuron ', ' Full Stack ', ' Data Science ', ' Course ']\n",
      "Finding nemo\n",
      "DATAPIPELINES\n",
      "mlops\n",
      "doloris jane umbridge\n",
      "Data science    Data Analyst\n",
      "1\n",
      "6\n",
      "2\n",
      "['i', 'euro', '']\n",
      "['i', 'euro', '']\n",
      "EDA \n",
      " EDA\n",
      "EDA\n",
      "eXPLORATORY dATA aNALYSIS\n",
      "Iris_flower_Dataset\n",
      "Hello Pam!\n",
      "Hello Pam!\n",
      "I2euro2\n",
      "b'Natural Language Processing'\n",
      "Nemo      \n",
      "      Nemo\n",
      "   Nemo   \n",
      "00000Hello\n"
     ]
    }
   ],
   "source": [
    "print('0987654321'.isdecimal())\n",
    "print('IneuronFullStackDataScience'.isalnum())\n",
    "print('Ineuron Full Stack Data science'.istitle())\n",
    "print('\"I could eat bananas all day, bananas are my favorite fruit\"'.partition('bananas'))\n",
    "print('\"I could eat bananas all day, bananas are my favorite fruit\"'.rpartition('bananas'))\n",
    "print('GeeksForFreaks'.isidentifier())\n",
    "print(len('Linear Regression'))\n",
    "print('Dhiren'.index('n'))\n",
    "print('Dhiren'.rindex('n'))\n",
    "print(max('Data_Scientist'))\n",
    "print(min('Data_Analyst'))\n",
    "print('Ineuron \\n Full Stack \\n Data Science \\n Course '.splitlines())\n",
    "print('finding nemo'.capitalize())\n",
    "print('datapipelines'.upper())\n",
    "print('MLOPS'.lower())\n",
    "print('Doloris Jane Umbridge'.casefold())\n",
    "print('Data science\\tData Analyst'.expandtabs(8))\n",
    "print('Ineuron'.find('n'))\n",
    "print('Ineuron'.rfind('n'))\n",
    "print('Transformers'.count('s'))\n",
    "print('ineuron'.split('n'))\n",
    "print('ineuron'.rsplit('n'))\n",
    "print(' EDA '.lstrip())\n",
    "print(' EDA '.rstrip())\n",
    "print(' EDA '.strip())\n",
    "print('Exploratory Data Analysis'.swapcase())\n",
    "print('_'.join(['Iris','flower','Dataset']))\n",
    "\n",
    "mydict = {83:  80}\n",
    "print(\"Hello Sam!\".translate(mydict))\n",
    "\n",
    "txt = \"Hello Sam!\"\n",
    "mytable = txt.maketrans(\"S\", \"P\")\n",
    "print(txt.translate(mytable))\n",
    "\n",
    "print('Ineuron'.replace('n','2'))\n",
    "print('Natural Language Processing'.encode())\n",
    "print('Nemo'.ljust(10))\n",
    "print('Nemo'.rjust(10))\n",
    "print('Nemo'.center(10))\n",
    "print('Hello'.zfill(10))"
   ]
  },
  {
   "cell_type": "markdown",
   "metadata": {},
   "source": [
    "## Q2. How do the string forms in Python 3.X vary in terms of operations?"
   ]
  },
  {
   "cell_type": "markdown",
   "metadata": {},
   "source": [
    " In Python3 default format of strings is Unicode Whereas in Pyton2 we need to explicitly mention Unicode value using u."
   ]
  },
  {
   "cell_type": "markdown",
   "metadata": {},
   "source": [
    "## Q3. In 3.X, how do you put non-ASCII Unicode characters in a string?"
   ]
  },
  {
   "cell_type": "code",
   "execution_count": 4,
   "metadata": {},
   "outputs": [
    {
     "name": "stdout",
     "output_type": "stream",
     "text": [
      "Collecting unidecode\n",
      "  Downloading Unidecode-1.3.4-py3-none-any.whl (235 kB)\n",
      "Installing collected packages: unidecode\n",
      "Successfully installed unidecode-1.3.4\n"
     ]
    }
   ],
   "source": [
    "! pip install unidecode"
   ]
  },
  {
   "cell_type": "code",
   "execution_count": 7,
   "metadata": {},
   "outputs": [
    {
     "name": "stdout",
     "output_type": "stream",
     "text": [
      "kozuscek\n",
      "phaadd' khdd'aa hai sthir sir utthaae jise dekhtaa huuN hr roj' aatmiiytaa baarish meN nhaayaa yaa phir srd raatoN kii rimjhim ke baad brph' se ddhkaa phaadd' sukuun detaa hai\n",
      "arigatou. \n",
      "ulybat'sia Vladimir Putin\n"
     ]
    }
   ],
   "source": [
    "from unidecode import unidecode\n",
    "print(unidecode(u'ko\\u017eu\\u0161\\u010dek'))\n",
    "print(unidecode(\"पहाड़ खड़ा है स्थिर सिर उठाए जिसे देखता हूँ हर रोज़ आत्मीयता बारिश में नहाया या फिर सर्द रातों की रिमझिम के बाद बर्फ़ से ढका पहाड़ सुकून देता है\"))\n",
    "print(unidecode(\"ありがとう。\"))\n",
    "print(unidecode(\"улыбаться Владимир Путин\"))"
   ]
  },
  {
   "cell_type": "markdown",
   "metadata": {},
   "source": [
    "## Q4. In Python 3.X, what are the key differences between text-mode and binary-mode files?"
   ]
  },
  {
   "cell_type": "markdown",
   "metadata": {},
   "source": [
    "The major difference between these two is that a text file contains textual information in the form of alphabets, digits and special characters or symbols. On the other hand, a binary file contains bytes or a compiled version of a text file."
   ]
  },
  {
   "cell_type": "markdown",
   "metadata": {},
   "source": [
    "## Q5. How can you interpret a Unicode text file containing text encoded in a different encoding than your platform's default?"
   ]
  },
  {
   "cell_type": "markdown",
   "metadata": {},
   "source": [
    "Use of encode() and decode() method can be used to you interpret a Unicode text file containing text encoded in a different encoding than your platform's default, by default encoding parameter is UTF-8"
   ]
  },
  {
   "cell_type": "markdown",
   "metadata": {},
   "source": [
    "## Q6. What is the best way to make a Unicode text file in a particular encoding format?"
   ]
  },
  {
   "cell_type": "markdown",
   "metadata": {},
   "source": [
    "Use str.encode() and file.write() to make a Unicode text file in a particular encoding format, default encoding format is UTF-18.\n",
    "\n",
    "Call str.encode(encoding) with encoding set to utf8 to encode str.\n",
    "Call open(file, mode) to open a file with mode set to wb . wb writes to files in binary mode & preserves UTF-8format.\n",
    "Call file.write(data) to write data to the file."
   ]
  },
  {
   "cell_type": "code",
   "execution_count": 8,
   "metadata": {},
   "outputs": [
    {
     "name": "stdout",
     "output_type": "stream",
     "text": [
      "b'\\xd1\\x83\\xd0\\xbb\\xd1\\x8b\\xd0\\xb1\\xd0\\xb0\\xd1\\x82\\xd1\\x8c\\xd1\\x81\\xd1\\x8f \\xd0\\x92\\xd0\\xbb\\xd0\\xb0\\xd0\\xb4\\xd0\\xb8\\xd0\\xbc\\xd0\\xb8\\xd1\\x80 \\xd0\\x9f\\xd1\\x83\\xd1\\x82\\xd0\\xb8\\xd0\\xbd'\n",
      "\n",
      "b'\\xd1\\x83\\xd0\\xbb\\xd1\\x8b\\xd0\\xb1\\xd0\\xb0\\xd1\\x82\\xd1\\x8c\\xd1\\x81\\xd1\\x8f \\xd0\\x92\\xd0\\xbb\\xd0\\xb0\\xd0\\xb4\\xd0\\xb8\\xd0\\xbc\\xd0\\xb8\\xd1\\x80 \\xd0\\x9f\\xd1\\x83\\xd1\\x82\\xd0\\xb8\\xd0\\xbd'\n"
     ]
    }
   ],
   "source": [
    "unicode_text = u\"улыбаться Владимир Путин\"\n",
    "encoded_unicode_text = unicode_text.encode(\"utf-8\")\n",
    "print(encoded_unicode_text,end=\"\\n\\n\")\n",
    "\n",
    "w_file = open(\"w_file.txt\",\"wb\")\n",
    "w_file.write(encoded_unicode_text)\n",
    "w_file.close()\n",
    "\n",
    "r_file = open(\"w_file.txt\",\"rb\")\n",
    "data = r_file.read()\n",
    "print(data)"
   ]
  },
  {
   "cell_type": "markdown",
   "metadata": {},
   "source": [
    "## Q7. What qualifies ASCII text as a form of Unicode text?"
   ]
  },
  {
   "cell_type": "markdown",
   "metadata": {},
   "source": [
    "Unicode represents most written languages in the world. ASCII has its equivalent in Unicode. The difference between ASCII and Unicode is that ASCII represents lowercase letters (a-z), uppercase letters (A-Z), digits (0–9) and symbols such as punctuation marks while Unicode represents letters of English, Arabic, Greek etc. mathematical symbols, historical scripts, emoji covering a wide range of characters than ASCII."
   ]
  },
  {
   "cell_type": "markdown",
   "metadata": {},
   "source": [
    "## Q8. How much of an effect does the change in string types in Python 3.X have on your code?"
   ]
  },
  {
   "cell_type": "markdown",
   "metadata": {},
   "source": [
    "Python 3 stores strings as Unicode by default whereas Python 2 requires you to mark a string with a u if you want to store it as Unicode. Unicode strings are more versatile than ASCII strings, which are the Python 3.X default, as they can store letters from foreign languages as well as emoji and the standard Roman letters and numerals."
   ]
  }
 ],
 "metadata": {
  "kernelspec": {
   "display_name": "Python 3",
   "language": "python",
   "name": "python3"
  },
  "language_info": {
   "codemirror_mode": {
    "name": "ipython",
    "version": 3
   },
   "file_extension": ".py",
   "mimetype": "text/x-python",
   "name": "python",
   "nbconvert_exporter": "python",
   "pygments_lexer": "ipython3",
   "version": "3.8.5"
  }
 },
 "nbformat": 4,
 "nbformat_minor": 4
}
